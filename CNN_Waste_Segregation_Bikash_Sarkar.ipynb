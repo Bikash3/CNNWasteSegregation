{
  "nbformat": 4,
  "nbformat_minor": 0,
  "metadata": {
    "colab": {
      "provenance": [],
      "gpuType": "T4"
    },
    "kernelspec": {
      "name": "python3",
      "display_name": "Python 3"
    },
    "language_info": {
      "name": "python"
    },
    "accelerator": "GPU"
  },
  "cells": [
    {
      "cell_type": "markdown",
      "source": [
        "# **Waste Material Segregation for Improving Waste Management**"
      ],
      "metadata": {
        "id": "lf5lYawIw8tE"
      }
    },
    {
      "cell_type": "markdown",
      "source": [
        "## **Objective**\n",
        "\n",
        "The objective of this project is to implement an effective waste material segregation system using convolutional neural networks (CNNs) that categorises waste into distinct groups. This process enhances recycling efficiency, minimises environmental pollution, and promotes sustainable waste management practices.\n",
        "\n",
        "The key goals are:\n",
        "\n",
        "* Accurately classify waste materials into categories like cardboard, glass, paper, and plastic.\n",
        "* Improve waste segregation efficiency to support recycling and reduce landfill waste.\n",
        "* Understand the properties of different waste materials to optimise sorting methods for sustainability."
      ],
      "metadata": {
        "id": "NY1InIbkw80B"
      }
    },
    {
      "cell_type": "markdown",
      "source": [
        "## **Data Understanding**\n",
        "\n",
        "The Dataset consists of images of some common waste materials.\n",
        "\n",
        "1. Food Waste\n",
        "2. Metal\n",
        "3. Paper\n",
        "4. Plastic\n",
        "5. Other\n",
        "6. Cardboard\n",
        "7. Glass\n"
      ],
      "metadata": {
        "id": "JZGTCfyUxalZ"
      }
    },
    {
      "cell_type": "markdown",
      "source": [
        "**Data Description**\n",
        "\n",
        "* The dataset consists of multiple folders, each representing a specific class, such as `Cardboard`, `Food_Waste`, and `Metal`.\n",
        "* Within each folder, there are images of objects that belong to that category.\n",
        "* However, these items are not further subcategorised. <br> For instance, the `Food_Waste` folder may contain images of items like coffee grounds, teabags, and fruit peels, without explicitly stating that they are actually coffee grounds or teabags."
      ],
      "metadata": {
        "id": "eZJtmMnzQjAr"
      }
    },
    {
      "cell_type": "markdown",
      "source": [
        "## **1. Load the data**"
      ],
      "metadata": {
        "id": "UBFt43WDzWSJ"
      }
    },
    {
      "cell_type": "markdown",
      "source": [
        "Load and unzip the dataset zip file."
      ],
      "metadata": {
        "id": "Dfy0rjJ1yzFl"
      }
    },
    {
      "cell_type": "markdown",
      "source": [
        "**Import Necessary Libraries**"
      ],
      "metadata": {
        "id": "N35LLuWXzUQH"
      }
    },
    {
      "cell_type": "code",
      "source": [
        "# Recommended versions:\n",
        "\n",
        "# numpy version: 1.26.4\n",
        "# pandas version: 2.2.2\n",
        "# seaborn version: 0.13.2\n",
        "# matplotlib version: 3.10.0\n",
        "# PIL version: 11.1.0\n",
        "# tensorflow version: 2.18.0\n",
        "# keras version: 3.8.0\n",
        "# sklearn version: 1.6.1"
      ],
      "metadata": {
        "id": "DmZo7m1-J_Ou"
      },
      "execution_count": null,
      "outputs": []
    },
    {
      "cell_type": "code",
      "source": [
        "# Import essential libraries\n",
        "import os\n",
        "import zipfile\n",
        "import numpy as np\n",
        "import pandas as pd\n",
        "import seaborn as sns\n",
        "import matplotlib.pyplot as plt\n",
        "from PIL import Image\n",
        "import tensorflow as tf\n",
        "import tensorflow.keras as keras\n",
        "from tensorflow.keras import Sequential\n",
        "from tensorflow.keras.layers import Dense, Dropout, Flatten, Conv2D, MaxPooling2D\n",
        "import sklearn\n",
        "from sklearn.model_selection import train_test_split\n",
        "import warnings\n",
        "warnings.filterwarnings(\"ignore\")"
      ],
      "metadata": {
        "id": "dzM50pygphUe"
      },
      "execution_count": 2,
      "outputs": []
    },
    {
      "cell_type": "code",
      "source": [
        "# Load and unzip the dataset\n",
        "dataPath = '/content/drive/MyDrive/Upgrad/CNN_Waste_Segregation/data.zip'\n",
        "zip_object = zipfile.ZipFile(file=dataPath, mode='r')\n",
        "zip_object.extractall('./sample_data')\n",
        "zip_object.close()"
      ],
      "metadata": {
        "id": "TM1qn2DKtjR6"
      },
      "execution_count": 4,
      "outputs": []
    },
    {
      "cell_type": "markdown",
      "source": [
        "## **2. Data Preparation** <font color=red> [25 marks] </font><br>\n"
      ],
      "metadata": {
        "id": "rDp_EWxVOhUu"
      }
    },
    {
      "cell_type": "markdown",
      "source": [
        "### **2.1 Load and Preprocess Images** <font color=red> [8 marks] </font><br>"
      ],
      "metadata": {
        "id": "S7Ac8VxvjWnw"
      }
    },
    {
      "cell_type": "markdown",
      "source": [
        "Let us create a function to load the images first. We can then directly use this function while loading images of the different categories to load and crop them in a single step."
      ],
      "metadata": {
        "id": "ghmtINrMXDMy"
      }
    },
    {
      "cell_type": "markdown",
      "source": [
        "#### **2.1.1** <font color=red> [3 marks] </font><br>\n",
        "Create a function to load the images."
      ],
      "metadata": {
        "id": "sZQ1UZNfQCWX"
      }
    },
    {
      "cell_type": "code",
      "source": [
        "# Create a function to load the raw images\n",
        "# function is creating dataset out of images in directory, normalizing the data and resizing it\n",
        "def load_and_prepare_data(data_dir, target_size, batch_size):\n",
        "    # Create a dataset from the image directory\n",
        "    dataset = tf.keras.utils.image_dataset_from_directory(\n",
        "        data_dir,\n",
        "        labels='inferred',\n",
        "        label_mode='int',\n",
        "        image_size=target_size, # You can adjust this if needed\n",
        "        interpolation='nearest',\n",
        "        batch_size=batch_size,\n",
        "        shuffle=True\n",
        "    )\n",
        "\n",
        "    # Get the class names\n",
        "    class_names = dataset.class_names\n",
        "\n",
        "    # Convert images to RGB and normalize\n",
        "    def preprocess(image, label):\n",
        "        image = tf.image.convert_image_dtype(image, dtype=tf.float32) / 255.0\n",
        "        return image, label\n",
        "\n",
        "    dataset = dataset.map(preprocess)\n",
        "\n",
        "    return dataset, class_names\n",
        "\n",
        "# Function to plot sample images\n",
        "def plot_sample_images(images, labels, class_names, num_images=5):\n",
        "    plt.figure(figsize=(10, 5))\n",
        "    for i in range(num_images):\n",
        "        plt.subplot(1, num_images, i + 1)\n",
        "        plt.imshow(images[i]* 255)\n",
        "        plt.title(class_names[labels[i]])\n",
        "        plt.axis('off')\n",
        "    plt.show()"
      ],
      "metadata": {
        "id": "y6klNk9rcAtr"
      },
      "execution_count": 5,
      "outputs": []
    },
    {
      "cell_type": "markdown",
      "source": [
        "#### **2.1.2** <font color=red> [5 marks] </font><br>\n",
        "Load images and labels."
      ],
      "metadata": {
        "id": "J01VQrLhQsxx"
      }
    },
    {
      "cell_type": "markdown",
      "source": [
        "Load the images from the dataset directory. Labels of images are present in the subdirectories.\n",
        "\n",
        "Verify if the images and labels are loaded correctly."
      ],
      "metadata": {
        "id": "_C9Oo0PTtYLf"
      }
    },
    {
      "cell_type": "code",
      "source": [
        "# Get the images and their labels\n",
        "data_dir = '/content/sample_data/data'\n",
        "batch_size = 32\n",
        "target_size = (128, 128)\n",
        "dataset, class_names = load_and_prepare_data(data_dir, target_size, batch_size)"
      ],
      "metadata": {
        "colab": {
          "base_uri": "https://localhost:8080/"
        },
        "id": "t9-dBTgdu64A",
        "outputId": "e92586da-739b-49c9-8aa5-20c8bf9f5f08"
      },
      "execution_count": 7,
      "outputs": [
        {
          "output_type": "stream",
          "name": "stdout",
          "text": [
            "Found 7625 files belonging to 7 classes.\n"
          ]
        }
      ]
    },
    {
      "cell_type": "code",
      "source": [
        "# Convert the dataset to lists of images and labels\n",
        "image_list = []\n",
        "label_list = []\n",
        "for images, labels in dataset:\n",
        "    # Convert TensorFlow tensors to NumPy arrays and extend the lists\n",
        "    image_list.extend(images.numpy())\n",
        "    label_list.extend(labels.numpy())\n",
        "# Create a DataFrame from the NumPy arrays\n",
        "data_dict = {'images': image_list, 'labels': label_list}\n",
        "img_df = pd.DataFrame(data_dict)"
      ],
      "metadata": {
        "id": "jZuNzI6Zv85L"
      },
      "execution_count": 8,
      "outputs": []
    },
    {
      "cell_type": "markdown",
      "source": [
        "Perform any operations, if needed, on the images and labels to get them into the desired format."
      ],
      "metadata": {
        "id": "26Is-EwKuyGf"
      }
    },
    {
      "cell_type": "markdown",
      "source": [
        "### **2.2 Data Visualisation** <font color=red> [9 marks] </font><br>"
      ],
      "metadata": {
        "id": "I64rs77bkAYk"
      }
    },
    {
      "cell_type": "markdown",
      "source": [
        "#### **2.2.1** <font color=red> [3 marks] </font><br>\n",
        "Create a bar plot to display the class distribution"
      ],
      "metadata": {
        "id": "jCAepbyAQdI2"
      }
    },
    {
      "cell_type": "code",
      "source": [
        "# Visualise Data Distribution\n",
        "class_counts = list(img_df['labels'].value_counts().sort_values(ascending=True))\n",
        "plt.figure(figsize=(10, 5))\n",
        "sns.barplot(x=class_names, y=class_counts, palette='flare')\n",
        "plt.title('Class Distribution')\n",
        "plt.xlabel('Class')\n",
        "plt.ylabel('Number of Images')\n",
        "plt.show()"
      ],
      "metadata": {
        "id": "Gm5LuWSFqTac",
        "colab": {
          "base_uri": "https://localhost:8080/",
          "height": 487
        },
        "outputId": "ff0be73f-39e2-4368-a275-d6170fd66565"
      },
      "execution_count": 9,
      "outputs": [
        {
          "output_type": "display_data",
          "data": {
            "text/plain": [
              "<Figure size 1000x500 with 1 Axes>"
            ],
            "image/png": "[encoded data removed]"
          },
          "metadata": {}
        }
      ]
    },
    {
      "cell_type": "markdown",
      "source": [
        "#### **2.2.2** <font color=red> [3 marks] </font><br>\n",
        "Visualise some sample images"
      ],
      "metadata": {
        "id": "zNWsPfTzRh7x"
      }
    },
    {
      "cell_type": "code",
      "source": [
        "# Visualise Sample Images (across different labels)\n",
        "img_df_sample = img_df.groupby('labels').apply(lambda x: x.sample(1)).reset_index(drop=True)\n",
        "plot_sample_images(img_df_sample['images'], img_df_sample['labels'], class_names, num_images=7)"
      ],
      "metadata": {
        "id": "37yXZzfLyOWt",
        "colab": {
          "base_uri": "https://localhost:8080/",
          "height": 153
        },
        "outputId": "81f8a949-2999-4e00-9842-bace5f28c1e9"
      },
      "execution_count": 10,
      "outputs": [
        {
          "output_type": "display_data",
          "data": {
            "text/plain": [
              "<Figure size 1000x500 with 7 Axes>"
            ],
            "image/png": "[encoded data removed]"
          },
          "metadata": {}
        }
      ]
    },
    {
      "cell_type": "markdown",
      "source": [
        "#### **2.2.3** <font color=red> [3 marks] </font><br>\n",
        "Based on the smallest and largest image dimensions, resize the images."
      ],
      "metadata": {
        "id": "IrxdFzNigaYG"
      }
    },
    {
      "cell_type": "code",
      "source": [
        "# Find the smallest and largest image dimensions from the data set\n",
        "min_width = min(img.shape[1] for img in image_list)\n",
        "min_height = min(img.shape[0] for img in image_list)\n",
        "max_width = max(img.shape[1] for img in image_list)\n",
        "max_height = max(img.shape[0] for img in image_list)\n",
        "print(f\"Smallest width: {min_width}, Smallest height: {min_height}\")\n",
        "print(f\"Largest width: {max_width}, Largest height: {max_height}\")"
      ],
      "metadata": {
        "colab": {
          "base_uri": "https://localhost:8080/"
        },
        "id": "rrvp8zwG6vP9",
        "outputId": "206de17c-7a1a-4e46-ef7a-92c0e4ff9c37"
      },
      "execution_count": 11,
      "outputs": [
        {
          "output_type": "stream",
          "name": "stdout",
          "text": [
            "Smallest width: 128, Smallest height: 128\n",
            "Largest width: 128, Largest height: 128\n"
          ]
        }
      ]
    },
    {
      "cell_type": "code",
      "source": [
        "# Resize the image dimensions\n",
        "img_df['images'][0].shape"
      ],
      "metadata": {
        "colab": {
          "base_uri": "https://localhost:8080/"
        },
        "id": "dnwCRNaK-q1F",
        "outputId": "1afd0b00-4445-43f2-e12a-37b58ff929a7"
      },
      "execution_count": 15,
      "outputs": [
        {
          "output_type": "execute_result",
          "data": {
            "text/plain": [
              "(128, 128, 3)"
            ]
          },
          "metadata": {},
          "execution_count": 15
        }
      ]
    },
    {
      "cell_type": "markdown",
      "source": [
        "### **2.3 Encoding the classes** <font color=red> [3 marks] </font><br>"
      ],
      "metadata": {
        "id": "lCB8uOckR5li"
      }
    },
    {
      "cell_type": "markdown",
      "source": [
        "There are seven classes present in the data.\n",
        "\n",
        "We have extracted the images and their labels, and visualised their distribution. Now, we need to perform encoding on the labels. Encode the labels suitably."
      ],
      "metadata": {
        "id": "ZdC4dpTWt9eo"
      }
    },
    {
      "cell_type": "markdown",
      "source": [
        "####**2.3.1** <font color=red> [3 marks] </font><br>\n",
        "Encode the target class labels."
      ],
      "metadata": {
        "id": "_Nwd0Ztvkf7K"
      }
    },
    {
      "cell_type": "code",
      "source": [
        "# Encode the labels suitably\n",
        "img_df['labels'].value_counts()"
      ],
      "metadata": {
        "id": "qkyXDQN-660s"
      },
      "execution_count": null,
      "outputs": []
    },
    {
      "cell_type": "markdown",
      "source": [
        "### **2.4 Data Splitting** <font color=red> [5 marks] </font><br>"
      ],
      "metadata": {
        "id": "SNBM4hsuSaoj"
      }
    },
    {
      "cell_type": "markdown",
      "source": [
        "#### **2.4.1** <font color=red> [5 marks] </font><br>\n",
        "Split the dataset into training and validation sets"
      ],
      "metadata": {
        "id": "m0xw-Qlh29cZ"
      }
    },
    {
      "cell_type": "code",
      "source": [
        "# Assign specified parts of the dataset to train and validation sets\n",
        "X = np.array(img_df['images'].tolist())\n",
        "y = np.array(img_df['labels'].tolist())\n",
        "x_train, x_test, y_train, y_test = train_test_split(X, y, train_size=0.7, test_size=0.3, random_state=42, stratify=y)"
      ],
      "metadata": {
        "id": "TErpx_JOkwjO"
      },
      "execution_count": 16,
      "outputs": []
    },
    {
      "cell_type": "code",
      "source": [
        "print(f\"x_train shape: {x_train.shape}\")\n",
        "print(f\"y_train shape: {y_train.shape}\")\n",
        "print(f\"x_test shape: {x_test.shape}\")\n",
        "print(f\"y_test shape: {y_test.shape}\")"
      ],
      "metadata": {
        "colab": {
          "base_uri": "https://localhost:8080/"
        },
        "id": "MQPBOPSe-OBW",
        "outputId": "e6f55d0c-4c1e-4f58-bbb6-0c2cc3eebd6a"
      },
      "execution_count": 17,
      "outputs": [
        {
          "output_type": "stream",
          "name": "stdout",
          "text": [
            "x_train shape: (5337, 128, 128, 3)\n",
            "y_train shape: (5337,)\n",
            "x_test shape: (2288, 128, 128, 3)\n",
            "y_test shape: (2288,)\n"
          ]
        }
      ]
    },
    {
      "cell_type": "markdown",
      "source": [
        "## **3. Model Building and Evaluation** <font color=red> [20 marks] </font><br>"
      ],
      "metadata": {
        "id": "mILXPeY-X-zP"
      }
    },
    {
      "cell_type": "markdown",
      "source": [
        "### **3.1 Model building and training** <font color=red> [15 marks] </font><br>"
      ],
      "metadata": {
        "id": "4E0afHwy5M_i"
      }
    },
    {
      "cell_type": "markdown",
      "source": [
        "#### **3.1.1** <font color=red> [10 marks] </font><br>\n",
        "Build and compile the model. Use 3 convolutional layers. Add suitable normalisation, dropout, and fully connected layers to the model."
      ],
      "metadata": {
        "id": "jsu8K3tL5a5Q"
      }
    },
    {
      "cell_type": "markdown",
      "source": [
        "Test out different configurations and report the results in conclusions."
      ],
      "metadata": {
        "id": "awW9V2lmMK_d"
      }
    },
    {
      "cell_type": "code",
      "source": [
        "# Build and compile the model\n",
        "input_shape = x_train.shape[1:]\n",
        "model = Sequential()\n",
        "\n",
        "model.add(Conv2D(128, (3, 3), activation='relu', input_shape=input_shape))\n",
        "model.add(MaxPooling2D((2, 2)))\n",
        "\n",
        "model.add(Conv2D(64, (3, 3), activation='relu'))\n",
        "model.add(MaxPooling2D((2, 2)))\n",
        "\n",
        "model.add(Conv2D(32, (3, 3), activation='relu'))\n",
        "model.add(MaxPooling2D((2, 2)))\n",
        "\n",
        "model.add(Flatten())\n",
        "model.add(Dense(128, activation='relu'))\n",
        "model.add(Dropout(0.5))\n",
        "model.add(Dense(7, activation='softmax'))"
      ],
      "metadata": {
        "id": "oD7-2EXdz_Cl"
      },
      "execution_count": 18,
      "outputs": []
    },
    {
      "cell_type": "code",
      "source": [
        "model.compile(optimizer='adam',\n",
        "              loss='sparse_categorical_crossentropy',\n",
        "              metrics=['accuracy'])\n",
        "model.summary()"
      ],
      "metadata": {
        "colab": {
          "base_uri": "https://localhost:8080/",
          "height": 417
        },
        "id": "zHb2uLbt3BC-",
        "outputId": "54353260-000e-467a-ed70-4a74f2a05335"
      },
      "execution_count": 19,
      "outputs": [
        {
          "output_type": "display_data",
          "data": {
            "text/plain": [
              "\u001b[1mModel: \"sequential\"\u001b[0m\n"
            ],
            "text/html": [
              "<pre style=\"white-space:pre;overflow-x:auto;line-height:normal;font-family:Menlo,'DejaVu Sans Mono',consolas,'Courier New',monospace\"><span style=\"font-weight: bold\">Model: \"sequential\"</span>\n",
              "</pre>\n"
            ]
          },
          "metadata": {}
        },
        {
          "output_type": "display_data",
          "data": {
            "text/plain": [
              "┏━━━━━━━━━━━━━━━━━━━━━━━━━━━━━━━━━┳━━━━━━━━━━━━━━━━━━━━━━━━┳━━━━━━━━━━━━━━━┓\n",
              "┃\u001b[1m \u001b[0m\u001b[1mLayer (type)                   \u001b[0m\u001b[1m \u001b[0m┃\u001b[1m \u001b[0m\u001b[1mOutput Shape          \u001b[0m\u001b[1m \u001b[0m┃\u001b[1m \u001b[0m\u001b[1m      Param #\u001b[0m\u001b[1m \u001b[0m┃\n",
              "┡━━━━━━━━━━━━━━━━━━━━━━━━━━━━━━━━━╇━━━━━━━━━━━━━━━━━━━━━━━━╇━━━━━━━━━━━━━━━┩\n",
              "│ conv2d (\u001b[38;5;33mConv2D\u001b[0m)                 │ (\u001b[38;5;45mNone\u001b[0m, \u001b[38;5;34m126\u001b[0m, \u001b[38;5;34m126\u001b[0m, \u001b[38;5;34m128\u001b[0m)  │         \u001b[38;5;34m3,584\u001b[0m │\n",
              "├─────────────────────────────────┼────────────────────────┼───────────────┤\n",
              "│ max_pooling2d (\u001b[38;5;33mMaxPooling2D\u001b[0m)    │ (\u001b[38;5;45mNone\u001b[0m, \u001b[38;5;34m63\u001b[0m, \u001b[38;5;34m63\u001b[0m, \u001b[38;5;34m128\u001b[0m)    │             \u001b[38;5;34m0\u001b[0m │\n",
              "├─────────────────────────────────┼────────────────────────┼───────────────┤\n",
              "│ conv2d_1 (\u001b[38;5;33mConv2D\u001b[0m)               │ (\u001b[38;5;45mNone\u001b[0m, \u001b[38;5;34m61\u001b[0m, \u001b[38;5;34m61\u001b[0m, \u001b[38;5;34m64\u001b[0m)     │        \u001b[38;5;34m73,792\u001b[0m │\n",
              "├─────────────────────────────────┼────────────────────────┼───────────────┤\n",
              "│ max_pooling2d_1 (\u001b[38;5;33mMaxPooling2D\u001b[0m)  │ (\u001b[38;5;45mNone\u001b[0m, \u001b[38;5;34m30\u001b[0m, \u001b[38;5;34m30\u001b[0m, \u001b[38;5;34m64\u001b[0m)     │             \u001b[38;5;34m0\u001b[0m │\n",
              "├─────────────────────────────────┼────────────────────────┼───────────────┤\n",
              "│ conv2d_2 (\u001b[38;5;33mConv2D\u001b[0m)               │ (\u001b[38;5;45mNone\u001b[0m, \u001b[38;5;34m28\u001b[0m, \u001b[38;5;34m28\u001b[0m, \u001b[38;5;34m32\u001b[0m)     │        \u001b[38;5;34m18,464\u001b[0m │\n",
              "├─────────────────────────────────┼────────────────────────┼───────────────┤\n",
              "│ max_pooling2d_2 (\u001b[38;5;33mMaxPooling2D\u001b[0m)  │ (\u001b[38;5;45mNone\u001b[0m, \u001b[38;5;34m14\u001b[0m, \u001b[38;5;34m14\u001b[0m, \u001b[38;5;34m32\u001b[0m)     │             \u001b[38;5;34m0\u001b[0m │\n",
              "├─────────────────────────────────┼────────────────────────┼───────────────┤\n",
              "│ flatten (\u001b[38;5;33mFlatten\u001b[0m)               │ (\u001b[38;5;45mNone\u001b[0m, \u001b[38;5;34m6272\u001b[0m)           │             \u001b[38;5;34m0\u001b[0m │\n",
              "├─────────────────────────────────┼────────────────────────┼───────────────┤\n",
              "│ dropout (\u001b[38;5;33mDropout\u001b[0m)               │ (\u001b[38;5;45mNone\u001b[0m, \u001b[38;5;34m6272\u001b[0m)           │             \u001b[38;5;34m0\u001b[0m │\n",
              "├─────────────────────────────────┼────────────────────────┼───────────────┤\n",
              "│ dense (\u001b[38;5;33mDense\u001b[0m)                   │ (\u001b[38;5;45mNone\u001b[0m, \u001b[38;5;34m7\u001b[0m)              │        \u001b[38;5;34m43,911\u001b[0m │\n",
              "└─────────────────────────────────┴────────────────────────┴───────────────┘\n"
            ],
            "text/html": [
              "<pre style=\"white-space:pre;overflow-x:auto;line-height:normal;font-family:Menlo,'DejaVu Sans Mono',consolas,'Courier New',monospace\">┏━━━━━━━━━━━━━━━━━━━━━━━━━━━━━━━━━┳━━━━━━━━━━━━━━━━━━━━━━━━┳━━━━━━━━━━━━━━━┓\n",
              "┃<span style=\"font-weight: bold\"> Layer (type)                    </span>┃<span style=\"font-weight: bold\"> Output Shape           </span>┃<span style=\"font-weight: bold\">       Param # </span>┃\n",
              "┡━━━━━━━━━━━━━━━━━━━━━━━━━━━━━━━━━╇━━━━━━━━━━━━━━━━━━━━━━━━╇━━━━━━━━━━━━━━━┩\n",
              "│ conv2d (<span style=\"color: #0087ff; text-decoration-color: #0087ff\">Conv2D</span>)                 │ (<span style=\"color: #00d7ff; text-decoration-color: #00d7ff\">None</span>, <span style=\"color: #00af00; text-decoration-color: #00af00\">126</span>, <span style=\"color: #00af00; text-decoration-color: #00af00\">126</span>, <span style=\"color: #00af00; text-decoration-color: #00af00\">128</span>)  │         <span style=\"color: #00af00; text-decoration-color: #00af00\">3,584</span> │\n",
              "├─────────────────────────────────┼────────────────────────┼───────────────┤\n",
              "│ max_pooling2d (<span style=\"color: #0087ff; text-decoration-color: #0087ff\">MaxPooling2D</span>)    │ (<span style=\"color: #00d7ff; text-decoration-color: #00d7ff\">None</span>, <span style=\"color: #00af00; text-decoration-color: #00af00\">63</span>, <span style=\"color: #00af00; text-decoration-color: #00af00\">63</span>, <span style=\"color: #00af00; text-decoration-color: #00af00\">128</span>)    │             <span style=\"color: #00af00; text-decoration-color: #00af00\">0</span> │\n",
              "├─────────────────────────────────┼────────────────────────┼───────────────┤\n",
              "│ conv2d_1 (<span style=\"color: #0087ff; text-decoration-color: #0087ff\">Conv2D</span>)               │ (<span style=\"color: #00d7ff; text-decoration-color: #00d7ff\">None</span>, <span style=\"color: #00af00; text-decoration-color: #00af00\">61</span>, <span style=\"color: #00af00; text-decoration-color: #00af00\">61</span>, <span style=\"color: #00af00; text-decoration-color: #00af00\">64</span>)     │        <span style=\"color: #00af00; text-decoration-color: #00af00\">73,792</span> │\n",
              "├─────────────────────────────────┼────────────────────────┼───────────────┤\n",
              "│ max_pooling2d_1 (<span style=\"color: #0087ff; text-decoration-color: #0087ff\">MaxPooling2D</span>)  │ (<span style=\"color: #00d7ff; text-decoration-color: #00d7ff\">None</span>, <span style=\"color: #00af00; text-decoration-color: #00af00\">30</span>, <span style=\"color: #00af00; text-decoration-color: #00af00\">30</span>, <span style=\"color: #00af00; text-decoration-color: #00af00\">64</span>)     │             <span style=\"color: #00af00; text-decoration-color: #00af00\">0</span> │\n",
              "├─────────────────────────────────┼────────────────────────┼───────────────┤\n",
              "│ conv2d_2 (<span style=\"color: #0087ff; text-decoration-color: #0087ff\">Conv2D</span>)               │ (<span style=\"color: #00d7ff; text-decoration-color: #00d7ff\">None</span>, <span style=\"color: #00af00; text-decoration-color: #00af00\">28</span>, <span style=\"color: #00af00; text-decoration-color: #00af00\">28</span>, <span style=\"color: #00af00; text-decoration-color: #00af00\">32</span>)     │        <span style=\"color: #00af00; text-decoration-color: #00af00\">18,464</span> │\n",
              "├─────────────────────────────────┼────────────────────────┼───────────────┤\n",
              "│ max_pooling2d_2 (<span style=\"color: #0087ff; text-decoration-color: #0087ff\">MaxPooling2D</span>)  │ (<span style=\"color: #00d7ff; text-decoration-color: #00d7ff\">None</span>, <span style=\"color: #00af00; text-decoration-color: #00af00\">14</span>, <span style=\"color: #00af00; text-decoration-color: #00af00\">14</span>, <span style=\"color: #00af00; text-decoration-color: #00af00\">32</span>)     │             <span style=\"color: #00af00; text-decoration-color: #00af00\">0</span> │\n",
              "├─────────────────────────────────┼────────────────────────┼───────────────┤\n",
              "│ flatten (<span style=\"color: #0087ff; text-decoration-color: #0087ff\">Flatten</span>)               │ (<span style=\"color: #00d7ff; text-decoration-color: #00d7ff\">None</span>, <span style=\"color: #00af00; text-decoration-color: #00af00\">6272</span>)           │             <span style=\"color: #00af00; text-decoration-color: #00af00\">0</span> │\n",
              "├─────────────────────────────────┼────────────────────────┼───────────────┤\n",
              "│ dropout (<span style=\"color: #0087ff; text-decoration-color: #0087ff\">Dropout</span>)               │ (<span style=\"color: #00d7ff; text-decoration-color: #00d7ff\">None</span>, <span style=\"color: #00af00; text-decoration-color: #00af00\">6272</span>)           │             <span style=\"color: #00af00; text-decoration-color: #00af00\">0</span> │\n",
              "├─────────────────────────────────┼────────────────────────┼───────────────┤\n",
              "│ dense (<span style=\"color: #0087ff; text-decoration-color: #0087ff\">Dense</span>)                   │ (<span style=\"color: #00d7ff; text-decoration-color: #00d7ff\">None</span>, <span style=\"color: #00af00; text-decoration-color: #00af00\">7</span>)              │        <span style=\"color: #00af00; text-decoration-color: #00af00\">43,911</span> │\n",
              "└─────────────────────────────────┴────────────────────────┴───────────────┘\n",
              "</pre>\n"
            ]
          },
          "metadata": {}
        },
        {
          "output_type": "display_data",
          "data": {
            "text/plain": [
              "\u001b[1m Total params: \u001b[0m\u001b[38;5;34m139,751\u001b[0m (545.90 KB)\n"
            ],
            "text/html": [
              "<pre style=\"white-space:pre;overflow-x:auto;line-height:normal;font-family:Menlo,'DejaVu Sans Mono',consolas,'Courier New',monospace\"><span style=\"font-weight: bold\"> Total params: </span><span style=\"color: #00af00; text-decoration-color: #00af00\">139,751</span> (545.90 KB)\n",
              "</pre>\n"
            ]
          },
          "metadata": {}
        },
        {
          "output_type": "display_data",
          "data": {
            "text/plain": [
              "\u001b[1m Trainable params: \u001b[0m\u001b[38;5;34m139,751\u001b[0m (545.90 KB)\n"
            ],
            "text/html": [
              "<pre style=\"white-space:pre;overflow-x:auto;line-height:normal;font-family:Menlo,'DejaVu Sans Mono',consolas,'Courier New',monospace\"><span style=\"font-weight: bold\"> Trainable params: </span><span style=\"color: #00af00; text-decoration-color: #00af00\">139,751</span> (545.90 KB)\n",
              "</pre>\n"
            ]
          },
          "metadata": {}
        },
        {
          "output_type": "display_data",
          "data": {
            "text/plain": [
              "\u001b[1m Non-trainable params: \u001b[0m\u001b[38;5;34m0\u001b[0m (0.00 B)\n"
            ],
            "text/html": [
              "<pre style=\"white-space:pre;overflow-x:auto;line-height:normal;font-family:Menlo,'DejaVu Sans Mono',consolas,'Courier New',monospace\"><span style=\"font-weight: bold\"> Non-trainable params: </span><span style=\"color: #00af00; text-decoration-color: #00af00\">0</span> (0.00 B)\n",
              "</pre>\n"
            ]
          },
          "metadata": {}
        }
      ]
    },
    {
      "cell_type": "markdown",
      "source": [
        "#### **3.1.2** <font color=red> [5 marks] </font><br>\n",
        "Train the model."
      ],
      "metadata": {
        "id": "7t4duT1wX5wS"
      }
    },
    {
      "cell_type": "markdown",
      "source": [
        "Use appropriate metrics and callbacks as needed."
      ],
      "metadata": {
        "id": "gcrEzo51Qj6w"
      }
    },
    {
      "cell_type": "code",
      "source": [
        "# Training\n",
        "history = model.fit(x_train, y_train, epochs=10, validation_data=(x_test, y_test))"
      ],
      "metadata": {
        "id": "M7Ut0BicH_I8",
        "colab": {
          "base_uri": "https://localhost:8080/"
        },
        "outputId": "abb43340-c398-441e-a490-8967fb4e6e05"
      },
      "execution_count": null,
      "outputs": [
        {
          "output_type": "stream",
          "name": "stdout",
          "text": [
            "Epoch 1/10\n",
            "\u001b[1m167/167\u001b[0m \u001b[32m━━━━━━━━━━━━━━━━━━━━\u001b[0m\u001b[37m\u001b[0m \u001b[1m506s\u001b[0m 3s/step - accuracy: 0.2890 - loss: 1.8703 - val_accuracy: 0.3011 - val_loss: 1.8536\n",
            "Epoch 2/10\n",
            "\u001b[1m108/167\u001b[0m \u001b[32m━━━━━━━━━━━━\u001b[0m\u001b[37m━━━━━━━━\u001b[0m \u001b[1m2:27\u001b[0m 3s/step - accuracy: 0.3032 - loss: 1.8527"
          ]
        }
      ]
    },
    {
      "cell_type": "markdown",
      "source": [
        "### **3.2 Model Testing and Evaluation** <font color=red> [5 marks] </font><br>"
      ],
      "metadata": {
        "id": "YWT-bIj9YVzh"
      }
    },
    {
      "cell_type": "markdown",
      "source": [
        "#### **3.2.1** <font color=red> [5 marks] </font><br>\n",
        "Evaluate the model on test dataset. Derive appropriate metrics."
      ],
      "metadata": {
        "id": "XjhU3i5v59d6"
      }
    },
    {
      "cell_type": "code",
      "source": [
        "# Evaluate on the test set; display suitable metrics\n",
        "# list all data in history\n",
        "print(history.history.keys())\n",
        "# summarize history for accuracy\n",
        "plt.plot(history.history['acc'])\n",
        "plt.plot(history.history['val_acc'])\n",
        "plt.title('model accuracy')\n",
        "plt.ylabel('accuracy')\n",
        "plt.xlabel('epoch')\n",
        "plt.legend(['train', 'test'], loc='upper left')\n",
        "plt.show()\n",
        "# summarize history for loss\n",
        "plt.plot(history.history['loss'])\n",
        "plt.plot(history.history['val_loss'])\n",
        "plt.title('model loss')\n",
        "plt.ylabel('loss')\n",
        "plt.xlabel('epoch')\n",
        "plt.legend(['train', 'test'], loc='upper left')\n",
        "plt.show()\n"
      ],
      "metadata": {
        "id": "d_MtfUM_4y7j"
      },
      "execution_count": null,
      "outputs": []
    },
    {
      "cell_type": "markdown",
      "source": [
        "## **4. Data Augmentation** <font color=red> [optional] </font><br>"
      ],
      "metadata": {
        "id": "utro5JdHS0JM"
      }
    },
    {
      "cell_type": "markdown",
      "source": [
        "#### **4.1 Create a Data Augmentation Pipeline**"
      ],
      "metadata": {
        "id": "1T6QlG4eS4xi"
      }
    },
    {
      "cell_type": "markdown",
      "source": [
        "##### **4.1.1**\n",
        "Define augmentation steps for the datasets."
      ],
      "metadata": {
        "id": "7AXlfuoa4jQV"
      }
    },
    {
      "cell_type": "code",
      "source": [
        "# Define augmentation steps to augment images\n",
        "\n"
      ],
      "metadata": {
        "id": "vbHCwkX0dq0R"
      },
      "execution_count": null,
      "outputs": []
    },
    {
      "cell_type": "markdown",
      "source": [
        "Augment and resample the images.\n",
        "In case of class imbalance, you can also perform adequate undersampling on the majority class and augment those images to ensure consistency in the input datasets for both classes."
      ],
      "metadata": {
        "id": "07i11vgMEmM2"
      }
    },
    {
      "cell_type": "markdown",
      "source": [
        "Augment the images."
      ],
      "metadata": {
        "id": "chvmgE2r4xPZ"
      }
    },
    {
      "cell_type": "code",
      "source": [
        "# Create a function to augment the images\n",
        "\n",
        "\n"
      ],
      "metadata": {
        "id": "6-JBheeYFS8d"
      },
      "execution_count": null,
      "outputs": []
    },
    {
      "cell_type": "code",
      "source": [
        "# Create the augmented training dataset\n",
        "\n"
      ],
      "metadata": {
        "id": "Ddy1y1nPIlvM"
      },
      "execution_count": null,
      "outputs": []
    },
    {
      "cell_type": "markdown",
      "source": [
        "##### **4.1.2**\n",
        "\n",
        "Train the model on the new augmented dataset."
      ],
      "metadata": {
        "id": "bZYekkw9TCvP"
      }
    },
    {
      "cell_type": "code",
      "source": [
        "# Train the model using augmented images\n",
        "\n"
      ],
      "metadata": {
        "id": "tBcRbt57FEct"
      },
      "execution_count": null,
      "outputs": []
    },
    {
      "cell_type": "markdown",
      "source": [
        "## **5. Conclusions** <font color = red> [5 marks]</font>"
      ],
      "metadata": {
        "id": "xFPuXAvHkJVz"
      }
    },
    {
      "cell_type": "markdown",
      "source": [
        "#### **5.1 Conclude with outcomes and insights gained** <font color =red> [5 marks] </font>"
      ],
      "metadata": {
        "id": "33tWCHjpO5hH"
      }
    },
    {
      "cell_type": "markdown",
      "source": [
        "* Report your findings about the data\n",
        "* Report model training results"
      ],
      "metadata": {
        "id": "a3e1TLo2kWi0"
      }
    }
  ]
}